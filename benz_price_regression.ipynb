{
 "cells": [
  {
   "cell_type": "markdown",
   "id": "6fee7e79-0255-4eb1-9c9d-c7d82922e819",
   "metadata": {},
   "source": [
    "### 🚗미국 Mercedes-Benz 가격 회귀 예측\n",
    "\n",
    "#### Features\n",
    "\n",
    "- Name: 모델명\n",
    "- Mileage: 주행거리(마일리지)\n",
    "- Rating: 자동차 딜러의 평균 별점\n",
    "- Review Count: 자동차 딜러의 리뷰 수\n",
    "\n",
    "#### Target\n",
    "\n",
    "- Price: 가격"
   ]
  },
  {
   "cell_type": "markdown",
   "id": "5643c1fc-dac6-430d-9f8c-cb2714b64c16",
   "metadata": {},
   "source": [
    "#### 1. 데이터 탐색 및 전처리\n",
    "\n",
    "- 데이터를 읽어옵니다."
   ]
  },
  {
   "cell_type": "code",
   "execution_count": 2,
   "id": "fe5905e9-f8f2-4267-98bf-23b60e32a26b",
   "metadata": {},
   "outputs": [
    {
     "data": {
      "text/html": [
       "<div>\n",
       "<style scoped>\n",
       "    .dataframe tbody tr th:only-of-type {\n",
       "        vertical-align: middle;\n",
       "    }\n",
       "\n",
       "    .dataframe tbody tr th {\n",
       "        vertical-align: top;\n",
       "    }\n",
       "\n",
       "    .dataframe thead th {\n",
       "        text-align: right;\n",
       "    }\n",
       "</style>\n",
       "<table border=\"1\" class=\"dataframe\">\n",
       "  <thead>\n",
       "    <tr style=\"text-align: right;\">\n",
       "      <th></th>\n",
       "      <th>Name</th>\n",
       "      <th>Mileage</th>\n",
       "      <th>Rating</th>\n",
       "      <th>Review Count</th>\n",
       "      <th>Price</th>\n",
       "    </tr>\n",
       "  </thead>\n",
       "  <tbody>\n",
       "    <tr>\n",
       "      <th>0</th>\n",
       "      <td>2021 Mercedes-Benz A-Class A 220 4MATIC</td>\n",
       "      <td>29,636 mi.</td>\n",
       "      <td>3.9</td>\n",
       "      <td>1,800</td>\n",
       "      <td>$30,900</td>\n",
       "    </tr>\n",
       "    <tr>\n",
       "      <th>1</th>\n",
       "      <td>2022 Mercedes-Benz AMG SL 63 Base</td>\n",
       "      <td>5,540 mi.</td>\n",
       "      <td>4.7</td>\n",
       "      <td>1,239</td>\n",
       "      <td>$139,999</td>\n",
       "    </tr>\n",
       "    <tr>\n",
       "      <th>2</th>\n",
       "      <td>2022 Mercedes-Benz AMG SL 63 Base</td>\n",
       "      <td>4,890 mi.</td>\n",
       "      <td>4.7</td>\n",
       "      <td>1,239</td>\n",
       "      <td>$132,999</td>\n",
       "    </tr>\n",
       "    <tr>\n",
       "      <th>3</th>\n",
       "      <td>2020 Mercedes-Benz AMG E 53 Base 4MATIC</td>\n",
       "      <td>29,746 mi.</td>\n",
       "      <td>4.8</td>\n",
       "      <td>752</td>\n",
       "      <td>$58,587</td>\n",
       "    </tr>\n",
       "    <tr>\n",
       "      <th>4</th>\n",
       "      <td>2021 Mercedes-Benz AMG GLS 63 Base 4MATIC</td>\n",
       "      <td>32,631 mi.</td>\n",
       "      <td>5.0</td>\n",
       "      <td>1,502</td>\n",
       "      <td>$95,990</td>\n",
       "    </tr>\n",
       "    <tr>\n",
       "      <th>...</th>\n",
       "      <td>...</td>\n",
       "      <td>...</td>\n",
       "      <td>...</td>\n",
       "      <td>...</td>\n",
       "      <td>...</td>\n",
       "    </tr>\n",
       "    <tr>\n",
       "      <th>2424</th>\n",
       "      <td>2021 Mercedes-Benz E-Class E 450 4MATIC</td>\n",
       "      <td>54,422 mi.</td>\n",
       "      <td>NaN</td>\n",
       "      <td>236</td>\n",
       "      <td>$53,490</td>\n",
       "    </tr>\n",
       "    <tr>\n",
       "      <th>2425</th>\n",
       "      <td>2022 Mercedes-Benz S-Class 4MATIC</td>\n",
       "      <td>11,395 mi.</td>\n",
       "      <td>4.5</td>\n",
       "      <td>1,334</td>\n",
       "      <td>$89,599</td>\n",
       "    </tr>\n",
       "    <tr>\n",
       "      <th>2426</th>\n",
       "      <td>2021 Mercedes-Benz GLB 250 Base 4MATIC</td>\n",
       "      <td>30,392 mi.</td>\n",
       "      <td>4.9</td>\n",
       "      <td>2,375</td>\n",
       "      <td>$32,890</td>\n",
       "    </tr>\n",
       "    <tr>\n",
       "      <th>2427</th>\n",
       "      <td>2023 Mercedes-Benz E-Class E 450 4MATIC</td>\n",
       "      <td>3,413 mi.</td>\n",
       "      <td>4.8</td>\n",
       "      <td>1,758</td>\n",
       "      <td>$53,983</td>\n",
       "    </tr>\n",
       "    <tr>\n",
       "      <th>2428</th>\n",
       "      <td>2023 Mercedes-Benz GLA 250 Base</td>\n",
       "      <td>6,336 mi.</td>\n",
       "      <td>4.5</td>\n",
       "      <td>2,057</td>\n",
       "      <td>$46,035</td>\n",
       "    </tr>\n",
       "  </tbody>\n",
       "</table>\n",
       "<p>2429 rows × 5 columns</p>\n",
       "</div>"
      ],
      "text/plain": [
       "                                           Name     Mileage  Rating  \\\n",
       "0       2021 Mercedes-Benz A-Class A 220 4MATIC  29,636 mi.     3.9   \n",
       "1             2022 Mercedes-Benz AMG SL 63 Base   5,540 mi.     4.7   \n",
       "2             2022 Mercedes-Benz AMG SL 63 Base   4,890 mi.     4.7   \n",
       "3       2020 Mercedes-Benz AMG E 53 Base 4MATIC  29,746 mi.     4.8   \n",
       "4     2021 Mercedes-Benz AMG GLS 63 Base 4MATIC  32,631 mi.     5.0   \n",
       "...                                         ...         ...     ...   \n",
       "2424    2021 Mercedes-Benz E-Class E 450 4MATIC  54,422 mi.     NaN   \n",
       "2425          2022 Mercedes-Benz S-Class 4MATIC  11,395 mi.     4.5   \n",
       "2426     2021 Mercedes-Benz GLB 250 Base 4MATIC  30,392 mi.     4.9   \n",
       "2427    2023 Mercedes-Benz E-Class E 450 4MATIC   3,413 mi.     4.8   \n",
       "2428            2023 Mercedes-Benz GLA 250 Base   6,336 mi.     4.5   \n",
       "\n",
       "     Review Count     Price  \n",
       "0          1,800    $30,900  \n",
       "1          1,239   $139,999  \n",
       "2          1,239   $132,999  \n",
       "3            752    $58,587  \n",
       "4          1,502    $95,990  \n",
       "...           ...       ...  \n",
       "2424         236    $53,490  \n",
       "2425       1,334    $89,599  \n",
       "2426       2,375    $32,890  \n",
       "2427       1,758    $53,983  \n",
       "2428       2,057    $46,035  \n",
       "\n",
       "[2429 rows x 5 columns]"
      ]
     },
     "execution_count": 2,
     "metadata": {},
     "output_type": "execute_result"
    }
   ],
   "source": [
    "import pandas as pd\n",
    "\n",
    "b_df = pd.read_csv('./datasets/benz_price.csv')\n",
    "b_df"
   ]
  },
  {
   "cell_type": "markdown",
   "id": "dbafbc51-5adb-4eb5-a1c0-9c3d147bbda5",
   "metadata": {},
   "source": [
    "- info()를 통해 데이터를 확인해봅니다."
   ]
  },
  {
   "cell_type": "code",
   "execution_count": 3,
   "id": "73a77160-64c9-4f1a-8c73-98bc4b6818e3",
   "metadata": {},
   "outputs": [
    {
     "name": "stdout",
     "output_type": "stream",
     "text": [
      "<class 'pandas.core.frame.DataFrame'>\n",
      "RangeIndex: 2429 entries, 0 to 2428\n",
      "Data columns (total 5 columns):\n",
      " #   Column        Non-Null Count  Dtype  \n",
      "---  ------        --------------  -----  \n",
      " 0   Name          2429 non-null   object \n",
      " 1   Mileage       2429 non-null   object \n",
      " 2   Rating        2135 non-null   float64\n",
      " 3   Review Count  2398 non-null   object \n",
      " 4   Price         2429 non-null   object \n",
      "dtypes: float64(1), object(4)\n",
      "memory usage: 95.0+ KB\n"
     ]
    }
   ],
   "source": [
    "b_df.info()"
   ]
  },
  {
   "cell_type": "markdown",
   "id": "66a48007-d275-4772-989c-d2fe4992557b",
   "metadata": {},
   "source": [
    "- 중복행을 확인합니다."
   ]
  },
  {
   "cell_type": "code",
   "execution_count": 4,
   "id": "11d5c8fb-c58f-4c2c-9901-47d984ed8893",
   "metadata": {},
   "outputs": [
    {
     "data": {
      "text/plain": [
       "32"
      ]
     },
     "execution_count": 4,
     "metadata": {},
     "output_type": "execute_result"
    }
   ],
   "source": [
    "b_df.duplicated().sum()"
   ]
  },
  {
   "cell_type": "markdown",
   "id": "40a1f634-3438-4f73-8387-5029698a1596",
   "metadata": {},
   "source": [
    "- 중복행을 제거합니다."
   ]
  },
  {
   "cell_type": "code",
   "execution_count": 5,
   "id": "05012227-4e88-4dad-8504-f3afd115b79c",
   "metadata": {},
   "outputs": [
    {
     "data": {
      "text/plain": [
       "0"
      ]
     },
     "execution_count": 5,
     "metadata": {},
     "output_type": "execute_result"
    }
   ],
   "source": [
    "b_df.drop_duplicates(inplace=True)\n",
    "b_df.duplicated().sum()"
   ]
  },
  {
   "cell_type": "markdown",
   "id": "6c509820-370c-4b82-9633-f31e649b92a0",
   "metadata": {},
   "source": [
    "- 결측치를 확인합니다."
   ]
  },
  {
   "cell_type": "code",
   "execution_count": 6,
   "id": "bae5548f-bde6-4b37-98f0-b39c4daf08b2",
   "metadata": {},
   "outputs": [
    {
     "data": {
      "text/plain": [
       "Name              0\n",
       "Mileage           0\n",
       "Rating          292\n",
       "Review Count     31\n",
       "Price             0\n",
       "dtype: int64"
      ]
     },
     "execution_count": 6,
     "metadata": {},
     "output_type": "execute_result"
    }
   ],
   "source": [
    "b_df.isna().sum()"
   ]
  },
  {
   "cell_type": "markdown",
   "id": "8f7790a7-e387-4724-bb65-3a47dd86bb64",
   "metadata": {},
   "source": [
    "- Rating feature의 결측치를 대체하기 위해 4분위 분포표를 확인해봅니다."
   ]
  },
  {
   "cell_type": "code",
   "execution_count": 7,
   "id": "b8e10c8d-1eca-4002-8454-3ca6649bd16e",
   "metadata": {},
   "outputs": [
    {
     "data": {
      "text/plain": [
       "count    2105.000000\n",
       "mean        4.534109\n",
       "std         0.385226\n",
       "min         2.100000\n",
       "25%         4.400000\n",
       "50%         4.600000\n",
       "75%         4.800000\n",
       "max         5.000000\n",
       "Name: Rating, dtype: float64"
      ]
     },
     "execution_count": 7,
     "metadata": {},
     "output_type": "execute_result"
    }
   ],
   "source": [
    "b_df.Rating.describe().T"
   ]
  },
  {
   "cell_type": "markdown",
   "id": "22c6ce17-acfd-468d-a9cc-efe0de31c6e8",
   "metadata": {},
   "source": [
    "- 평균값으로 대체합니다."
   ]
  },
  {
   "cell_type": "code",
   "execution_count": 9,
   "id": "a7f8c2f0-8573-4dde-9249-a19557454bc8",
   "metadata": {},
   "outputs": [
    {
     "data": {
      "text/plain": [
       "Name             0\n",
       "Mileage          0\n",
       "Rating           0\n",
       "Review Count    31\n",
       "Price            0\n",
       "dtype: int64"
      ]
     },
     "execution_count": 9,
     "metadata": {},
     "output_type": "execute_result"
    }
   ],
   "source": [
    "b_df.Rating = b_df.Rating.fillna(b_df.Rating.mean())\n",
    "b_df.isna().sum()"
   ]
  },
  {
   "cell_type": "markdown",
   "id": "84778374-45f3-4f99-9629-2d3ac1e9b9cb",
   "metadata": {},
   "source": [
    "- Review Count의 결측치는 0으로 대체합니다."
   ]
  },
  {
   "cell_type": "code",
   "execution_count": 10,
   "id": "22798e1d-b63c-45f9-8886-e4048c20808c",
   "metadata": {},
   "outputs": [
    {
     "data": {
      "text/plain": [
       "Name            0\n",
       "Mileage         0\n",
       "Rating          0\n",
       "Review Count    0\n",
       "Price           0\n",
       "dtype: int64"
      ]
     },
     "execution_count": 10,
     "metadata": {},
     "output_type": "execute_result"
    }
   ],
   "source": [
    "b_df['Review Count'] = b_df['Review Count'].fillna(0)\n",
    "b_df.isna().sum()"
   ]
  },
  {
   "cell_type": "code",
   "execution_count": 11,
   "id": "746689a5-3aa6-4095-a104-398408c47160",
   "metadata": {},
   "outputs": [
    {
     "data": {
      "text/html": [
       "<div>\n",
       "<style scoped>\n",
       "    .dataframe tbody tr th:only-of-type {\n",
       "        vertical-align: middle;\n",
       "    }\n",
       "\n",
       "    .dataframe tbody tr th {\n",
       "        vertical-align: top;\n",
       "    }\n",
       "\n",
       "    .dataframe thead th {\n",
       "        text-align: right;\n",
       "    }\n",
       "</style>\n",
       "<table border=\"1\" class=\"dataframe\">\n",
       "  <thead>\n",
       "    <tr style=\"text-align: right;\">\n",
       "      <th></th>\n",
       "      <th>Name</th>\n",
       "      <th>Mileage</th>\n",
       "      <th>Rating</th>\n",
       "      <th>Review Count</th>\n",
       "      <th>Price</th>\n",
       "    </tr>\n",
       "  </thead>\n",
       "  <tbody>\n",
       "    <tr>\n",
       "      <th>0</th>\n",
       "      <td>2021 Mercedes-Benz A-Class A 220 4MATIC</td>\n",
       "      <td>29,636 mi.</td>\n",
       "      <td>3.900000</td>\n",
       "      <td>1,800</td>\n",
       "      <td>$30,900</td>\n",
       "    </tr>\n",
       "    <tr>\n",
       "      <th>1</th>\n",
       "      <td>2022 Mercedes-Benz AMG SL 63 Base</td>\n",
       "      <td>5,540 mi.</td>\n",
       "      <td>4.700000</td>\n",
       "      <td>1,239</td>\n",
       "      <td>$139,999</td>\n",
       "    </tr>\n",
       "    <tr>\n",
       "      <th>2</th>\n",
       "      <td>2022 Mercedes-Benz AMG SL 63 Base</td>\n",
       "      <td>4,890 mi.</td>\n",
       "      <td>4.700000</td>\n",
       "      <td>1,239</td>\n",
       "      <td>$132,999</td>\n",
       "    </tr>\n",
       "    <tr>\n",
       "      <th>3</th>\n",
       "      <td>2020 Mercedes-Benz AMG E 53 Base 4MATIC</td>\n",
       "      <td>29,746 mi.</td>\n",
       "      <td>4.800000</td>\n",
       "      <td>752</td>\n",
       "      <td>$58,587</td>\n",
       "    </tr>\n",
       "    <tr>\n",
       "      <th>4</th>\n",
       "      <td>2021 Mercedes-Benz AMG GLS 63 Base 4MATIC</td>\n",
       "      <td>32,631 mi.</td>\n",
       "      <td>5.000000</td>\n",
       "      <td>1,502</td>\n",
       "      <td>$95,990</td>\n",
       "    </tr>\n",
       "    <tr>\n",
       "      <th>...</th>\n",
       "      <td>...</td>\n",
       "      <td>...</td>\n",
       "      <td>...</td>\n",
       "      <td>...</td>\n",
       "      <td>...</td>\n",
       "    </tr>\n",
       "    <tr>\n",
       "      <th>2424</th>\n",
       "      <td>2021 Mercedes-Benz E-Class E 450 4MATIC</td>\n",
       "      <td>54,422 mi.</td>\n",
       "      <td>4.534109</td>\n",
       "      <td>236</td>\n",
       "      <td>$53,490</td>\n",
       "    </tr>\n",
       "    <tr>\n",
       "      <th>2425</th>\n",
       "      <td>2022 Mercedes-Benz S-Class 4MATIC</td>\n",
       "      <td>11,395 mi.</td>\n",
       "      <td>4.500000</td>\n",
       "      <td>1,334</td>\n",
       "      <td>$89,599</td>\n",
       "    </tr>\n",
       "    <tr>\n",
       "      <th>2426</th>\n",
       "      <td>2021 Mercedes-Benz GLB 250 Base 4MATIC</td>\n",
       "      <td>30,392 mi.</td>\n",
       "      <td>4.900000</td>\n",
       "      <td>2,375</td>\n",
       "      <td>$32,890</td>\n",
       "    </tr>\n",
       "    <tr>\n",
       "      <th>2427</th>\n",
       "      <td>2023 Mercedes-Benz E-Class E 450 4MATIC</td>\n",
       "      <td>3,413 mi.</td>\n",
       "      <td>4.800000</td>\n",
       "      <td>1,758</td>\n",
       "      <td>$53,983</td>\n",
       "    </tr>\n",
       "    <tr>\n",
       "      <th>2428</th>\n",
       "      <td>2023 Mercedes-Benz GLA 250 Base</td>\n",
       "      <td>6,336 mi.</td>\n",
       "      <td>4.500000</td>\n",
       "      <td>2,057</td>\n",
       "      <td>$46,035</td>\n",
       "    </tr>\n",
       "  </tbody>\n",
       "</table>\n",
       "<p>2397 rows × 5 columns</p>\n",
       "</div>"
      ],
      "text/plain": [
       "                                           Name     Mileage    Rating  \\\n",
       "0       2021 Mercedes-Benz A-Class A 220 4MATIC  29,636 mi.  3.900000   \n",
       "1             2022 Mercedes-Benz AMG SL 63 Base   5,540 mi.  4.700000   \n",
       "2             2022 Mercedes-Benz AMG SL 63 Base   4,890 mi.  4.700000   \n",
       "3       2020 Mercedes-Benz AMG E 53 Base 4MATIC  29,746 mi.  4.800000   \n",
       "4     2021 Mercedes-Benz AMG GLS 63 Base 4MATIC  32,631 mi.  5.000000   \n",
       "...                                         ...         ...       ...   \n",
       "2424    2021 Mercedes-Benz E-Class E 450 4MATIC  54,422 mi.  4.534109   \n",
       "2425          2022 Mercedes-Benz S-Class 4MATIC  11,395 mi.  4.500000   \n",
       "2426     2021 Mercedes-Benz GLB 250 Base 4MATIC  30,392 mi.  4.900000   \n",
       "2427    2023 Mercedes-Benz E-Class E 450 4MATIC   3,413 mi.  4.800000   \n",
       "2428            2023 Mercedes-Benz GLA 250 Base   6,336 mi.  4.500000   \n",
       "\n",
       "     Review Count     Price  \n",
       "0          1,800    $30,900  \n",
       "1          1,239   $139,999  \n",
       "2          1,239   $132,999  \n",
       "3            752    $58,587  \n",
       "4          1,502    $95,990  \n",
       "...           ...       ...  \n",
       "2424         236    $53,490  \n",
       "2425       1,334    $89,599  \n",
       "2426       2,375    $32,890  \n",
       "2427       1,758    $53,983  \n",
       "2428       2,057    $46,035  \n",
       "\n",
       "[2397 rows x 5 columns]"
      ]
     },
     "execution_count": 11,
     "metadata": {},
     "output_type": "execute_result"
    }
   ],
   "source": [
    "b_df"
   ]
  },
  {
   "cell_type": "markdown",
   "id": "7b596ed6-0422-4c7f-8882-d872a5d70687",
   "metadata": {},
   "source": [
    "- 회귀 학습에 불필요한 feature인 Name feature를 삭제합니다."
   ]
  },
  {
   "cell_type": "code",
   "execution_count": 12,
   "id": "be4a6fe4-c5ed-410c-9cce-0fc5be21de5d",
   "metadata": {},
   "outputs": [
    {
     "data": {
      "text/html": [
       "<div>\n",
       "<style scoped>\n",
       "    .dataframe tbody tr th:only-of-type {\n",
       "        vertical-align: middle;\n",
       "    }\n",
       "\n",
       "    .dataframe tbody tr th {\n",
       "        vertical-align: top;\n",
       "    }\n",
       "\n",
       "    .dataframe thead th {\n",
       "        text-align: right;\n",
       "    }\n",
       "</style>\n",
       "<table border=\"1\" class=\"dataframe\">\n",
       "  <thead>\n",
       "    <tr style=\"text-align: right;\">\n",
       "      <th></th>\n",
       "      <th>Mileage</th>\n",
       "      <th>Rating</th>\n",
       "      <th>Review Count</th>\n",
       "      <th>Price</th>\n",
       "    </tr>\n",
       "  </thead>\n",
       "  <tbody>\n",
       "    <tr>\n",
       "      <th>0</th>\n",
       "      <td>29,636 mi.</td>\n",
       "      <td>3.900000</td>\n",
       "      <td>1,800</td>\n",
       "      <td>$30,900</td>\n",
       "    </tr>\n",
       "    <tr>\n",
       "      <th>1</th>\n",
       "      <td>5,540 mi.</td>\n",
       "      <td>4.700000</td>\n",
       "      <td>1,239</td>\n",
       "      <td>$139,999</td>\n",
       "    </tr>\n",
       "    <tr>\n",
       "      <th>2</th>\n",
       "      <td>4,890 mi.</td>\n",
       "      <td>4.700000</td>\n",
       "      <td>1,239</td>\n",
       "      <td>$132,999</td>\n",
       "    </tr>\n",
       "    <tr>\n",
       "      <th>3</th>\n",
       "      <td>29,746 mi.</td>\n",
       "      <td>4.800000</td>\n",
       "      <td>752</td>\n",
       "      <td>$58,587</td>\n",
       "    </tr>\n",
       "    <tr>\n",
       "      <th>4</th>\n",
       "      <td>32,631 mi.</td>\n",
       "      <td>5.000000</td>\n",
       "      <td>1,502</td>\n",
       "      <td>$95,990</td>\n",
       "    </tr>\n",
       "    <tr>\n",
       "      <th>...</th>\n",
       "      <td>...</td>\n",
       "      <td>...</td>\n",
       "      <td>...</td>\n",
       "      <td>...</td>\n",
       "    </tr>\n",
       "    <tr>\n",
       "      <th>2424</th>\n",
       "      <td>54,422 mi.</td>\n",
       "      <td>4.534109</td>\n",
       "      <td>236</td>\n",
       "      <td>$53,490</td>\n",
       "    </tr>\n",
       "    <tr>\n",
       "      <th>2425</th>\n",
       "      <td>11,395 mi.</td>\n",
       "      <td>4.500000</td>\n",
       "      <td>1,334</td>\n",
       "      <td>$89,599</td>\n",
       "    </tr>\n",
       "    <tr>\n",
       "      <th>2426</th>\n",
       "      <td>30,392 mi.</td>\n",
       "      <td>4.900000</td>\n",
       "      <td>2,375</td>\n",
       "      <td>$32,890</td>\n",
       "    </tr>\n",
       "    <tr>\n",
       "      <th>2427</th>\n",
       "      <td>3,413 mi.</td>\n",
       "      <td>4.800000</td>\n",
       "      <td>1,758</td>\n",
       "      <td>$53,983</td>\n",
       "    </tr>\n",
       "    <tr>\n",
       "      <th>2428</th>\n",
       "      <td>6,336 mi.</td>\n",
       "      <td>4.500000</td>\n",
       "      <td>2,057</td>\n",
       "      <td>$46,035</td>\n",
       "    </tr>\n",
       "  </tbody>\n",
       "</table>\n",
       "<p>2397 rows × 4 columns</p>\n",
       "</div>"
      ],
      "text/plain": [
       "         Mileage    Rating Review Count     Price\n",
       "0     29,636 mi.  3.900000       1,800    $30,900\n",
       "1      5,540 mi.  4.700000       1,239   $139,999\n",
       "2      4,890 mi.  4.700000       1,239   $132,999\n",
       "3     29,746 mi.  4.800000         752    $58,587\n",
       "4     32,631 mi.  5.000000       1,502    $95,990\n",
       "...          ...       ...          ...       ...\n",
       "2424  54,422 mi.  4.534109         236    $53,490\n",
       "2425  11,395 mi.  4.500000       1,334    $89,599\n",
       "2426  30,392 mi.  4.900000       2,375    $32,890\n",
       "2427   3,413 mi.  4.800000       1,758    $53,983\n",
       "2428   6,336 mi.  4.500000       2,057    $46,035\n",
       "\n",
       "[2397 rows x 4 columns]"
      ]
     },
     "execution_count": 12,
     "metadata": {},
     "output_type": "execute_result"
    }
   ],
   "source": [
    "pre_b_df = b_df.drop(labels=['Name'], axis=1)\n",
    "pre_b_df"
   ]
  },
  {
   "cell_type": "markdown",
   "id": "d3720d4b-e804-4886-a2e3-2be2870dad7c",
   "metadata": {},
   "source": [
    "- 현재 feature와 target의 자료형이 object이므로, 수치형 데이터로 변환해줍니다."
   ]
  },
  {
   "cell_type": "code",
   "execution_count": 13,
   "id": "6cf6f8b1-4cdd-4aab-b3ee-81ac4bd6f0b0",
   "metadata": {},
   "outputs": [
    {
     "data": {
      "text/html": [
       "<div>\n",
       "<style scoped>\n",
       "    .dataframe tbody tr th:only-of-type {\n",
       "        vertical-align: middle;\n",
       "    }\n",
       "\n",
       "    .dataframe tbody tr th {\n",
       "        vertical-align: top;\n",
       "    }\n",
       "\n",
       "    .dataframe thead th {\n",
       "        text-align: right;\n",
       "    }\n",
       "</style>\n",
       "<table border=\"1\" class=\"dataframe\">\n",
       "  <thead>\n",
       "    <tr style=\"text-align: right;\">\n",
       "      <th></th>\n",
       "      <th>Mileage</th>\n",
       "      <th>Rating</th>\n",
       "      <th>Review Count</th>\n",
       "      <th>Price</th>\n",
       "    </tr>\n",
       "  </thead>\n",
       "  <tbody>\n",
       "    <tr>\n",
       "      <th>0</th>\n",
       "      <td>29636</td>\n",
       "      <td>3.900000</td>\n",
       "      <td>1,800</td>\n",
       "      <td>$30,900</td>\n",
       "    </tr>\n",
       "    <tr>\n",
       "      <th>1</th>\n",
       "      <td>5540</td>\n",
       "      <td>4.700000</td>\n",
       "      <td>1,239</td>\n",
       "      <td>$139,999</td>\n",
       "    </tr>\n",
       "    <tr>\n",
       "      <th>2</th>\n",
       "      <td>4890</td>\n",
       "      <td>4.700000</td>\n",
       "      <td>1,239</td>\n",
       "      <td>$132,999</td>\n",
       "    </tr>\n",
       "    <tr>\n",
       "      <th>3</th>\n",
       "      <td>29746</td>\n",
       "      <td>4.800000</td>\n",
       "      <td>752</td>\n",
       "      <td>$58,587</td>\n",
       "    </tr>\n",
       "    <tr>\n",
       "      <th>4</th>\n",
       "      <td>32631</td>\n",
       "      <td>5.000000</td>\n",
       "      <td>1,502</td>\n",
       "      <td>$95,990</td>\n",
       "    </tr>\n",
       "    <tr>\n",
       "      <th>...</th>\n",
       "      <td>...</td>\n",
       "      <td>...</td>\n",
       "      <td>...</td>\n",
       "      <td>...</td>\n",
       "    </tr>\n",
       "    <tr>\n",
       "      <th>2424</th>\n",
       "      <td>54422</td>\n",
       "      <td>4.534109</td>\n",
       "      <td>236</td>\n",
       "      <td>$53,490</td>\n",
       "    </tr>\n",
       "    <tr>\n",
       "      <th>2425</th>\n",
       "      <td>11395</td>\n",
       "      <td>4.500000</td>\n",
       "      <td>1,334</td>\n",
       "      <td>$89,599</td>\n",
       "    </tr>\n",
       "    <tr>\n",
       "      <th>2426</th>\n",
       "      <td>30392</td>\n",
       "      <td>4.900000</td>\n",
       "      <td>2,375</td>\n",
       "      <td>$32,890</td>\n",
       "    </tr>\n",
       "    <tr>\n",
       "      <th>2427</th>\n",
       "      <td>3413</td>\n",
       "      <td>4.800000</td>\n",
       "      <td>1,758</td>\n",
       "      <td>$53,983</td>\n",
       "    </tr>\n",
       "    <tr>\n",
       "      <th>2428</th>\n",
       "      <td>6336</td>\n",
       "      <td>4.500000</td>\n",
       "      <td>2,057</td>\n",
       "      <td>$46,035</td>\n",
       "    </tr>\n",
       "  </tbody>\n",
       "</table>\n",
       "<p>2397 rows × 4 columns</p>\n",
       "</div>"
      ],
      "text/plain": [
       "      Mileage    Rating Review Count     Price\n",
       "0       29636  3.900000       1,800    $30,900\n",
       "1        5540  4.700000       1,239   $139,999\n",
       "2        4890  4.700000       1,239   $132,999\n",
       "3       29746  4.800000         752    $58,587\n",
       "4       32631  5.000000       1,502    $95,990\n",
       "...       ...       ...          ...       ...\n",
       "2424    54422  4.534109         236    $53,490\n",
       "2425    11395  4.500000       1,334    $89,599\n",
       "2426    30392  4.900000       2,375    $32,890\n",
       "2427     3413  4.800000       1,758    $53,983\n",
       "2428     6336  4.500000       2,057    $46,035\n",
       "\n",
       "[2397 rows x 4 columns]"
      ]
     },
     "execution_count": 13,
     "metadata": {},
     "output_type": "execute_result"
    }
   ],
   "source": [
    "pre_b_df['Mileage'] = pre_b_df['Mileage'].apply(lambda x: int(''.join(x.split()[0].split(','))))\n",
    "pre_b_df"
   ]
  },
  {
   "cell_type": "code",
   "execution_count": 14,
   "id": "25bce72c-f0e6-411c-863b-db5a20e5b03d",
   "metadata": {},
   "outputs": [
    {
     "data": {
      "text/plain": [
       "dtype('float64')"
      ]
     },
     "execution_count": 14,
     "metadata": {},
     "output_type": "execute_result"
    }
   ],
   "source": [
    "pre_b_df['Rating'].dtype"
   ]
  },
  {
   "cell_type": "code",
   "execution_count": 22,
   "id": "0bcd5872-47e7-49e8-9bfc-29dff0650fe5",
   "metadata": {},
   "outputs": [],
   "source": [
    "def get_review_count(x):\n",
    "    x = str(x)\n",
    "    if ',' in x:\n",
    "        x = ''.join(x.split(','))\n",
    "    return int(x)"
   ]
  },
  {
   "cell_type": "code",
   "execution_count": 23,
   "id": "296a7192-c2af-460a-b825-42d69eed7e1b",
   "metadata": {},
   "outputs": [
    {
     "data": {
      "text/html": [
       "<div>\n",
       "<style scoped>\n",
       "    .dataframe tbody tr th:only-of-type {\n",
       "        vertical-align: middle;\n",
       "    }\n",
       "\n",
       "    .dataframe tbody tr th {\n",
       "        vertical-align: top;\n",
       "    }\n",
       "\n",
       "    .dataframe thead th {\n",
       "        text-align: right;\n",
       "    }\n",
       "</style>\n",
       "<table border=\"1\" class=\"dataframe\">\n",
       "  <thead>\n",
       "    <tr style=\"text-align: right;\">\n",
       "      <th></th>\n",
       "      <th>Mileage</th>\n",
       "      <th>Rating</th>\n",
       "      <th>Review Count</th>\n",
       "      <th>Price</th>\n",
       "    </tr>\n",
       "  </thead>\n",
       "  <tbody>\n",
       "    <tr>\n",
       "      <th>0</th>\n",
       "      <td>29636</td>\n",
       "      <td>3.900000</td>\n",
       "      <td>1800</td>\n",
       "      <td>$30,900</td>\n",
       "    </tr>\n",
       "    <tr>\n",
       "      <th>1</th>\n",
       "      <td>5540</td>\n",
       "      <td>4.700000</td>\n",
       "      <td>1239</td>\n",
       "      <td>$139,999</td>\n",
       "    </tr>\n",
       "    <tr>\n",
       "      <th>2</th>\n",
       "      <td>4890</td>\n",
       "      <td>4.700000</td>\n",
       "      <td>1239</td>\n",
       "      <td>$132,999</td>\n",
       "    </tr>\n",
       "    <tr>\n",
       "      <th>3</th>\n",
       "      <td>29746</td>\n",
       "      <td>4.800000</td>\n",
       "      <td>752</td>\n",
       "      <td>$58,587</td>\n",
       "    </tr>\n",
       "    <tr>\n",
       "      <th>4</th>\n",
       "      <td>32631</td>\n",
       "      <td>5.000000</td>\n",
       "      <td>1502</td>\n",
       "      <td>$95,990</td>\n",
       "    </tr>\n",
       "    <tr>\n",
       "      <th>...</th>\n",
       "      <td>...</td>\n",
       "      <td>...</td>\n",
       "      <td>...</td>\n",
       "      <td>...</td>\n",
       "    </tr>\n",
       "    <tr>\n",
       "      <th>2424</th>\n",
       "      <td>54422</td>\n",
       "      <td>4.534109</td>\n",
       "      <td>236</td>\n",
       "      <td>$53,490</td>\n",
       "    </tr>\n",
       "    <tr>\n",
       "      <th>2425</th>\n",
       "      <td>11395</td>\n",
       "      <td>4.500000</td>\n",
       "      <td>1334</td>\n",
       "      <td>$89,599</td>\n",
       "    </tr>\n",
       "    <tr>\n",
       "      <th>2426</th>\n",
       "      <td>30392</td>\n",
       "      <td>4.900000</td>\n",
       "      <td>2375</td>\n",
       "      <td>$32,890</td>\n",
       "    </tr>\n",
       "    <tr>\n",
       "      <th>2427</th>\n",
       "      <td>3413</td>\n",
       "      <td>4.800000</td>\n",
       "      <td>1758</td>\n",
       "      <td>$53,983</td>\n",
       "    </tr>\n",
       "    <tr>\n",
       "      <th>2428</th>\n",
       "      <td>6336</td>\n",
       "      <td>4.500000</td>\n",
       "      <td>2057</td>\n",
       "      <td>$46,035</td>\n",
       "    </tr>\n",
       "  </tbody>\n",
       "</table>\n",
       "<p>2397 rows × 4 columns</p>\n",
       "</div>"
      ],
      "text/plain": [
       "      Mileage    Rating  Review Count     Price\n",
       "0       29636  3.900000          1800   $30,900\n",
       "1        5540  4.700000          1239  $139,999\n",
       "2        4890  4.700000          1239  $132,999\n",
       "3       29746  4.800000           752   $58,587\n",
       "4       32631  5.000000          1502   $95,990\n",
       "...       ...       ...           ...       ...\n",
       "2424    54422  4.534109           236   $53,490\n",
       "2425    11395  4.500000          1334   $89,599\n",
       "2426    30392  4.900000          2375   $32,890\n",
       "2427     3413  4.800000          1758   $53,983\n",
       "2428     6336  4.500000          2057   $46,035\n",
       "\n",
       "[2397 rows x 4 columns]"
      ]
     },
     "execution_count": 23,
     "metadata": {},
     "output_type": "execute_result"
    }
   ],
   "source": [
    "pre_b_df['Review Count'] = pre_b_df['Review Count'].apply(get_review_count)\n",
    "pre_b_df"
   ]
  },
  {
   "cell_type": "code",
   "execution_count": 25,
   "id": "d83d1c65-0501-4595-b80e-8391fe5d632c",
   "metadata": {},
   "outputs": [
    {
     "data": {
      "text/plain": [
       "Price\n",
       "$41,990    9\n",
       "$43,777    7\n",
       "$48,000    7\n",
       "$49,995    6\n",
       "$29,999    6\n",
       "          ..\n",
       "$83,982    1\n",
       "$47,203    1\n",
       "$57,441    1\n",
       "$34,537    1\n",
       "$46,035    1\n",
       "Name: count, Length: 1941, dtype: int64"
      ]
     },
     "execution_count": 25,
     "metadata": {},
     "output_type": "execute_result"
    }
   ],
   "source": [
    "pre_b_df['Price'].value_counts()"
   ]
  },
  {
   "cell_type": "code",
   "execution_count": 26,
   "id": "55c4a7eb-f6fd-42ee-a7b4-31d457c044a1",
   "metadata": {},
   "outputs": [],
   "source": [
    "def get_price(x):\n",
    "    if '$' not in x:\n",
    "        return 0\n",
    "    return int(''.join(x[1:].split(',')))"
   ]
  },
  {
   "cell_type": "code",
   "execution_count": 27,
   "id": "bef18c4b-9186-4a89-9173-b9dbaf4943b7",
   "metadata": {},
   "outputs": [
    {
     "data": {
      "text/html": [
       "<div>\n",
       "<style scoped>\n",
       "    .dataframe tbody tr th:only-of-type {\n",
       "        vertical-align: middle;\n",
       "    }\n",
       "\n",
       "    .dataframe tbody tr th {\n",
       "        vertical-align: top;\n",
       "    }\n",
       "\n",
       "    .dataframe thead th {\n",
       "        text-align: right;\n",
       "    }\n",
       "</style>\n",
       "<table border=\"1\" class=\"dataframe\">\n",
       "  <thead>\n",
       "    <tr style=\"text-align: right;\">\n",
       "      <th></th>\n",
       "      <th>Mileage</th>\n",
       "      <th>Rating</th>\n",
       "      <th>Review Count</th>\n",
       "      <th>Price</th>\n",
       "    </tr>\n",
       "  </thead>\n",
       "  <tbody>\n",
       "    <tr>\n",
       "      <th>0</th>\n",
       "      <td>29636</td>\n",
       "      <td>3.900000</td>\n",
       "      <td>1800</td>\n",
       "      <td>30900</td>\n",
       "    </tr>\n",
       "    <tr>\n",
       "      <th>1</th>\n",
       "      <td>5540</td>\n",
       "      <td>4.700000</td>\n",
       "      <td>1239</td>\n",
       "      <td>139999</td>\n",
       "    </tr>\n",
       "    <tr>\n",
       "      <th>2</th>\n",
       "      <td>4890</td>\n",
       "      <td>4.700000</td>\n",
       "      <td>1239</td>\n",
       "      <td>132999</td>\n",
       "    </tr>\n",
       "    <tr>\n",
       "      <th>3</th>\n",
       "      <td>29746</td>\n",
       "      <td>4.800000</td>\n",
       "      <td>752</td>\n",
       "      <td>58587</td>\n",
       "    </tr>\n",
       "    <tr>\n",
       "      <th>4</th>\n",
       "      <td>32631</td>\n",
       "      <td>5.000000</td>\n",
       "      <td>1502</td>\n",
       "      <td>95990</td>\n",
       "    </tr>\n",
       "    <tr>\n",
       "      <th>...</th>\n",
       "      <td>...</td>\n",
       "      <td>...</td>\n",
       "      <td>...</td>\n",
       "      <td>...</td>\n",
       "    </tr>\n",
       "    <tr>\n",
       "      <th>2424</th>\n",
       "      <td>54422</td>\n",
       "      <td>4.534109</td>\n",
       "      <td>236</td>\n",
       "      <td>53490</td>\n",
       "    </tr>\n",
       "    <tr>\n",
       "      <th>2425</th>\n",
       "      <td>11395</td>\n",
       "      <td>4.500000</td>\n",
       "      <td>1334</td>\n",
       "      <td>89599</td>\n",
       "    </tr>\n",
       "    <tr>\n",
       "      <th>2426</th>\n",
       "      <td>30392</td>\n",
       "      <td>4.900000</td>\n",
       "      <td>2375</td>\n",
       "      <td>32890</td>\n",
       "    </tr>\n",
       "    <tr>\n",
       "      <th>2427</th>\n",
       "      <td>3413</td>\n",
       "      <td>4.800000</td>\n",
       "      <td>1758</td>\n",
       "      <td>53983</td>\n",
       "    </tr>\n",
       "    <tr>\n",
       "      <th>2428</th>\n",
       "      <td>6336</td>\n",
       "      <td>4.500000</td>\n",
       "      <td>2057</td>\n",
       "      <td>46035</td>\n",
       "    </tr>\n",
       "  </tbody>\n",
       "</table>\n",
       "<p>2397 rows × 4 columns</p>\n",
       "</div>"
      ],
      "text/plain": [
       "      Mileage    Rating  Review Count   Price\n",
       "0       29636  3.900000          1800   30900\n",
       "1        5540  4.700000          1239  139999\n",
       "2        4890  4.700000          1239  132999\n",
       "3       29746  4.800000           752   58587\n",
       "4       32631  5.000000          1502   95990\n",
       "...       ...       ...           ...     ...\n",
       "2424    54422  4.534109           236   53490\n",
       "2425    11395  4.500000          1334   89599\n",
       "2426    30392  4.900000          2375   32890\n",
       "2427     3413  4.800000          1758   53983\n",
       "2428     6336  4.500000          2057   46035\n",
       "\n",
       "[2397 rows x 4 columns]"
      ]
     },
     "execution_count": 27,
     "metadata": {},
     "output_type": "execute_result"
    }
   ],
   "source": [
    "pre_b_df['Price'] = pre_b_df['Price'].apply(get_price)\n",
    "pre_b_df"
   ]
  },
  {
   "cell_type": "code",
   "execution_count": 28,
   "id": "1dc703d4-0d7d-4e6f-b869-3940438e3e16",
   "metadata": {},
   "outputs": [
    {
     "data": {
      "text/plain": [
       "1"
      ]
     },
     "execution_count": 28,
     "metadata": {},
     "output_type": "execute_result"
    }
   ],
   "source": [
    "(pre_b_df['Price'] == 0).sum()"
   ]
  },
  {
   "cell_type": "code",
   "execution_count": 29,
   "id": "64e5ee9c-dbc4-4401-8e23-fef8700f3779",
   "metadata": {},
   "outputs": [
    {
     "data": {
      "text/plain": [
       "0"
      ]
     },
     "execution_count": 29,
     "metadata": {},
     "output_type": "execute_result"
    }
   ],
   "source": [
    "pre_b_df = pre_b_df[pre_b_df['Price'] != 0].reset_index(drop=True)\n",
    "(pre_b_df['Price'] == 0).sum()"
   ]
  },
  {
   "cell_type": "code",
   "execution_count": 30,
   "id": "c95659ab-a537-447d-8add-46c9ef9ec43a",
   "metadata": {},
   "outputs": [
    {
     "data": {
      "text/html": [
       "<div>\n",
       "<style scoped>\n",
       "    .dataframe tbody tr th:only-of-type {\n",
       "        vertical-align: middle;\n",
       "    }\n",
       "\n",
       "    .dataframe tbody tr th {\n",
       "        vertical-align: top;\n",
       "    }\n",
       "\n",
       "    .dataframe thead th {\n",
       "        text-align: right;\n",
       "    }\n",
       "</style>\n",
       "<table border=\"1\" class=\"dataframe\">\n",
       "  <thead>\n",
       "    <tr style=\"text-align: right;\">\n",
       "      <th></th>\n",
       "      <th>Mileage</th>\n",
       "      <th>Rating</th>\n",
       "      <th>Review Count</th>\n",
       "      <th>Price</th>\n",
       "    </tr>\n",
       "  </thead>\n",
       "  <tbody>\n",
       "    <tr>\n",
       "      <th>0</th>\n",
       "      <td>29636</td>\n",
       "      <td>3.900000</td>\n",
       "      <td>1800</td>\n",
       "      <td>30900</td>\n",
       "    </tr>\n",
       "    <tr>\n",
       "      <th>1</th>\n",
       "      <td>5540</td>\n",
       "      <td>4.700000</td>\n",
       "      <td>1239</td>\n",
       "      <td>139999</td>\n",
       "    </tr>\n",
       "    <tr>\n",
       "      <th>2</th>\n",
       "      <td>4890</td>\n",
       "      <td>4.700000</td>\n",
       "      <td>1239</td>\n",
       "      <td>132999</td>\n",
       "    </tr>\n",
       "    <tr>\n",
       "      <th>3</th>\n",
       "      <td>29746</td>\n",
       "      <td>4.800000</td>\n",
       "      <td>752</td>\n",
       "      <td>58587</td>\n",
       "    </tr>\n",
       "    <tr>\n",
       "      <th>4</th>\n",
       "      <td>32631</td>\n",
       "      <td>5.000000</td>\n",
       "      <td>1502</td>\n",
       "      <td>95990</td>\n",
       "    </tr>\n",
       "    <tr>\n",
       "      <th>...</th>\n",
       "      <td>...</td>\n",
       "      <td>...</td>\n",
       "      <td>...</td>\n",
       "      <td>...</td>\n",
       "    </tr>\n",
       "    <tr>\n",
       "      <th>2391</th>\n",
       "      <td>54422</td>\n",
       "      <td>4.534109</td>\n",
       "      <td>236</td>\n",
       "      <td>53490</td>\n",
       "    </tr>\n",
       "    <tr>\n",
       "      <th>2392</th>\n",
       "      <td>11395</td>\n",
       "      <td>4.500000</td>\n",
       "      <td>1334</td>\n",
       "      <td>89599</td>\n",
       "    </tr>\n",
       "    <tr>\n",
       "      <th>2393</th>\n",
       "      <td>30392</td>\n",
       "      <td>4.900000</td>\n",
       "      <td>2375</td>\n",
       "      <td>32890</td>\n",
       "    </tr>\n",
       "    <tr>\n",
       "      <th>2394</th>\n",
       "      <td>3413</td>\n",
       "      <td>4.800000</td>\n",
       "      <td>1758</td>\n",
       "      <td>53983</td>\n",
       "    </tr>\n",
       "    <tr>\n",
       "      <th>2395</th>\n",
       "      <td>6336</td>\n",
       "      <td>4.500000</td>\n",
       "      <td>2057</td>\n",
       "      <td>46035</td>\n",
       "    </tr>\n",
       "  </tbody>\n",
       "</table>\n",
       "<p>2396 rows × 4 columns</p>\n",
       "</div>"
      ],
      "text/plain": [
       "      Mileage    Rating  Review Count   Price\n",
       "0       29636  3.900000          1800   30900\n",
       "1        5540  4.700000          1239  139999\n",
       "2        4890  4.700000          1239  132999\n",
       "3       29746  4.800000           752   58587\n",
       "4       32631  5.000000          1502   95990\n",
       "...       ...       ...           ...     ...\n",
       "2391    54422  4.534109           236   53490\n",
       "2392    11395  4.500000          1334   89599\n",
       "2393    30392  4.900000          2375   32890\n",
       "2394     3413  4.800000          1758   53983\n",
       "2395     6336  4.500000          2057   46035\n",
       "\n",
       "[2396 rows x 4 columns]"
      ]
     },
     "execution_count": 30,
     "metadata": {},
     "output_type": "execute_result"
    }
   ],
   "source": [
    "pre_b_df"
   ]
  },
  {
   "cell_type": "markdown",
   "id": "74f1cd37-8344-458f-8c0a-1d6b389d04a6",
   "metadata": {},
   "source": [
    "- 분포를 확인해봅니다."
   ]
  },
  {
   "cell_type": "code",
   "execution_count": 31,
   "id": "0c7f5e20-5d7e-48d9-9d8f-dc157a21d8a3",
   "metadata": {},
   "outputs": [
    {
     "data": {
      "text/plain": [
       "array([[<Axes: title={'center': 'Mileage'}>,\n",
       "        <Axes: title={'center': 'Rating'}>],\n",
       "       [<Axes: title={'center': 'Review Count'}>,\n",
       "        <Axes: title={'center': 'Price'}>]], dtype=object)"
      ]
     },
     "execution_count": 31,
     "metadata": {},
     "output_type": "execute_result"
    },
    {
     "data": {
      "image/png": "[encoded data removed]",
      "text/plain": [
       "<Figure size 800x800 with 4 Axes>"
      ]
     },
     "metadata": {},
     "output_type": "display_data"
    }
   ],
   "source": [
    "pre_b_df.hist(figsize=(8, 8))"
   ]
  },
  {
   "cell_type": "markdown",
   "id": "9056128f-36e5-45d3-9457-7ba1de812c53",
   "metadata": {},
   "source": [
    "- 종속변수와의 상관관계를 확인해봅니다."
   ]
  },
  {
   "cell_type": "code",
   "execution_count": 32,
   "id": "c02096ab-6cf8-4184-aac0-7c86c54b8eb3",
   "metadata": {},
   "outputs": [
    {
     "data": {
      "text/plain": [
       "Review Count    0.042243\n",
       "Rating         -0.005237\n",
       "Mileage        -0.275375\n",
       "Name: Price, dtype: float64"
      ]
     },
     "execution_count": 32,
     "metadata": {},
     "output_type": "execute_result"
    }
   ],
   "source": [
    "pre_b_df.corr()['Price'].sort_values(ascending=False)[1:]"
   ]
  },
  {
   "cell_type": "markdown",
   "id": "1ef8493c-84ef-46e7-a69c-565ffcca08c2",
   "metadata": {},
   "source": [
    "#### 2. OLS, VIF 확인\n",
    "\n",
    "- OLS와 VIF를 확인해봅니다."
   ]
  },
  {
   "cell_type": "code",
   "execution_count": 33,
   "id": "5e77e98d-94fa-4cdf-aeb0-83b42ff08710",
   "metadata": {},
   "outputs": [
    {
     "name": "stdout",
     "output_type": "stream",
     "text": [
      "                                 OLS Regression Results                                \n",
      "=======================================================================================\n",
      "Dep. Variable:                  Price   R-squared (uncentered):                   0.774\n",
      "Model:                            OLS   Adj. R-squared (uncentered):              0.774\n",
      "Method:                 Least Squares   F-statistic:                              2740.\n",
      "Date:                Tue, 30 Apr 2024   Prob (F-statistic):                        0.00\n",
      "Time:                        11:42:48   Log-Likelihood:                         -28126.\n",
      "No. Observations:                2396   AIC:                                  5.626e+04\n",
      "Df Residuals:                    2393   BIC:                                  5.628e+04\n",
      "Df Model:                           3                                                  \n",
      "Covariance Type:            nonrobust                                                  \n",
      "================================================================================\n",
      "                   coef    std err          t      P>|t|      [0.025      0.975]\n",
      "--------------------------------------------------------------------------------\n",
      "Mileage         -0.4611      0.035    -13.281      0.000      -0.529      -0.393\n",
      "Rating        1.417e+04    249.763     56.742      0.000    1.37e+04    1.47e+04\n",
      "Review Count     0.3273      0.499      0.656      0.512      -0.651       1.305\n",
      "==============================================================================\n",
      "Omnibus:                     1333.342   Durbin-Watson:                   1.955\n",
      "Prob(Omnibus):                  0.000   Jarque-Bera (JB):             9600.996\n",
      "Skew:                           2.609   Prob(JB):                         0.00\n",
      "Kurtosis:                      11.304   Cond. No.                     1.09e+04\n",
      "==============================================================================\n",
      "\n",
      "Notes:\n",
      "[1] R² is computed without centering (uncentered) since the model does not contain a constant.\n",
      "[2] Standard Errors assume that the covariance matrix of the errors is correctly specified.\n",
      "[3] The condition number is large, 1.09e+04. This might indicate that there are\n",
      "strong multicollinearity or other numerical problems.\n"
     ]
    }
   ],
   "source": [
    "from statsmodels.api import OLS\n",
    "\n",
    "features, targets = pre_b_df.iloc[:, :-1], pre_b_df.iloc[:, -1]\n",
    "\n",
    "model = OLS(targets, features)\n",
    "print(model.fit().summary())"
   ]
  },
  {
   "cell_type": "code",
   "execution_count": 34,
   "id": "fdcd28f4-6bbc-41b3-a078-912cb2aa07d3",
   "metadata": {},
   "outputs": [],
   "source": [
    "from statsmodels.stats.outliers_influence import variance_inflation_factor\n",
    "\n",
    "def get_vif(features):\n",
    "    vif = pd.DataFrame()\n",
    "    vif['vif_score'] = [variance_inflation_factor(features.values, i) for i in range(features.shape[1])]\n",
    "    vif['feature'] = features.columns\n",
    "    return vif"
   ]
  },
  {
   "cell_type": "code",
   "execution_count": 35,
   "id": "33ba38ae-b31e-4908-8f1f-45078c70fd80",
   "metadata": {},
   "outputs": [
    {
     "data": {
      "text/html": [
       "<div>\n",
       "<style scoped>\n",
       "    .dataframe tbody tr th:only-of-type {\n",
       "        vertical-align: middle;\n",
       "    }\n",
       "\n",
       "    .dataframe tbody tr th {\n",
       "        vertical-align: top;\n",
       "    }\n",
       "\n",
       "    .dataframe thead th {\n",
       "        text-align: right;\n",
       "    }\n",
       "</style>\n",
       "<table border=\"1\" class=\"dataframe\">\n",
       "  <thead>\n",
       "    <tr style=\"text-align: right;\">\n",
       "      <th></th>\n",
       "      <th>vif_score</th>\n",
       "      <th>feature</th>\n",
       "    </tr>\n",
       "  </thead>\n",
       "  <tbody>\n",
       "    <tr>\n",
       "      <th>0</th>\n",
       "      <td>2.272622</td>\n",
       "      <td>Mileage</td>\n",
       "    </tr>\n",
       "    <tr>\n",
       "      <th>1</th>\n",
       "      <td>3.358376</td>\n",
       "      <td>Rating</td>\n",
       "    </tr>\n",
       "    <tr>\n",
       "      <th>2</th>\n",
       "      <td>2.036683</td>\n",
       "      <td>Review Count</td>\n",
       "    </tr>\n",
       "  </tbody>\n",
       "</table>\n",
       "</div>"
      ],
      "text/plain": [
       "   vif_score       feature\n",
       "0   2.272622       Mileage\n",
       "1   3.358376        Rating\n",
       "2   2.036683  Review Count"
      ]
     },
     "execution_count": 35,
     "metadata": {},
     "output_type": "execute_result"
    }
   ],
   "source": [
    "get_vif(features)"
   ]
  },
  {
   "cell_type": "markdown",
   "id": "4228a06d-378c-4a5b-b472-8bb999364763",
   "metadata": {},
   "source": [
    "- Review Count의 P-value가 높지만, 다중 공선성에는 문제가 없는 상태입니다."
   ]
  },
  {
   "cell_type": "markdown",
   "id": "9f04f555-a6ba-4b7e-80d7-b4b6300017d3",
   "metadata": {},
   "source": [
    "#### 3. 회귀 모델 학습 및 예측, 평가\n",
    "\n",
    "- 기본적인 전처리만 수행한 상태에서 회귀 모델을 훈련시킨 후 예측 및 평가를 수행해봅니다."
   ]
  },
  {
   "cell_type": "code",
   "execution_count": 36,
   "id": "5289b7f2-fba6-4793-b9a7-bbb03159b257",
   "metadata": {},
   "outputs": [],
   "source": [
    "import numpy as np\n",
    "from sklearn.metrics import mean_squared_log_error, mean_squared_error, r2_score\n",
    "\n",
    "def get_evaluation(y_test, prediction):\n",
    "    MSE = mean_squared_error(y_test, prediction)\n",
    "    RMSE = np.sqrt(MSE)\n",
    "    R2 = r2_score(y_test, prediction)\n",
    "    print('MSE: {:.4f}, RMSE: {:.4f}, R2: {:.4f}'\\\n",
    "          .format(MSE, RMSE, R2))"
   ]
  },
  {
   "cell_type": "code",
   "execution_count": 37,
   "id": "c9eaf86f-a661-498e-b929-051fb0e00dfe",
   "metadata": {},
   "outputs": [
    {
     "data": {
      "text/html": [
       "<style>#sk-container-id-1 {color: black;background-color: white;}#sk-container-id-1 pre{padding: 0;}#sk-container-id-1 div.sk-toggleable {background-color: white;}#sk-container-id-1 label.sk-toggleable__label {cursor: pointer;display: block;width: 100%;margin-bottom: 0;padding: 0.3em;box-sizing: border-box;text-align: center;}#sk-container-id-1 label.sk-toggleable__label-arrow:before {content: \"▸\";float: left;margin-right: 0.25em;color: #696969;}#sk-container-id-1 label.sk-toggleable__label-arrow:hover:before {color: black;}#sk-container-id-1 div.sk-estimator:hover label.sk-toggleable__label-arrow:before {color: black;}#sk-container-id-1 div.sk-toggleable__content {max-height: 0;max-width: 0;overflow: hidden;text-align: left;background-color: #f0f8ff;}#sk-container-id-1 div.sk-toggleable__content pre {margin: 0.2em;color: black;border-radius: 0.25em;background-color: #f0f8ff;}#sk-container-id-1 input.sk-toggleable__control:checked~div.sk-toggleable__content {max-height: 200px;max-width: 100%;overflow: auto;}#sk-container-id-1 input.sk-toggleable__control:checked~label.sk-toggleable__label-arrow:before {content: \"▾\";}#sk-container-id-1 div.sk-estimator input.sk-toggleable__control:checked~label.sk-toggleable__label {background-color: #d4ebff;}#sk-container-id-1 div.sk-label input.sk-toggleable__control:checked~label.sk-toggleable__label {background-color: #d4ebff;}#sk-container-id-1 input.sk-hidden--visually {border: 0;clip: rect(1px 1px 1px 1px);clip: rect(1px, 1px, 1px, 1px);height: 1px;margin: -1px;overflow: hidden;padding: 0;position: absolute;width: 1px;}#sk-container-id-1 div.sk-estimator {font-family: monospace;background-color: #f0f8ff;border: 1px dotted black;border-radius: 0.25em;box-sizing: border-box;margin-bottom: 0.5em;}#sk-container-id-1 div.sk-estimator:hover {background-color: #d4ebff;}#sk-container-id-1 div.sk-parallel-item::after {content: \"\";width: 100%;border-bottom: 1px solid gray;flex-grow: 1;}#sk-container-id-1 div.sk-label:hover label.sk-toggleable__label {background-color: #d4ebff;}#sk-container-id-1 div.sk-serial::before {content: \"\";position: absolute;border-left: 1px solid gray;box-sizing: border-box;top: 0;bottom: 0;left: 50%;z-index: 0;}#sk-container-id-1 div.sk-serial {display: flex;flex-direction: column;align-items: center;background-color: white;padding-right: 0.2em;padding-left: 0.2em;position: relative;}#sk-container-id-1 div.sk-item {position: relative;z-index: 1;}#sk-container-id-1 div.sk-parallel {display: flex;align-items: stretch;justify-content: center;background-color: white;position: relative;}#sk-container-id-1 div.sk-item::before, #sk-container-id-1 div.sk-parallel-item::before {content: \"\";position: absolute;border-left: 1px solid gray;box-sizing: border-box;top: 0;bottom: 0;left: 50%;z-index: -1;}#sk-container-id-1 div.sk-parallel-item {display: flex;flex-direction: column;z-index: 1;position: relative;background-color: white;}#sk-container-id-1 div.sk-parallel-item:first-child::after {align-self: flex-end;width: 50%;}#sk-container-id-1 div.sk-parallel-item:last-child::after {align-self: flex-start;width: 50%;}#sk-container-id-1 div.sk-parallel-item:only-child::after {width: 0;}#sk-container-id-1 div.sk-dashed-wrapped {border: 1px dashed gray;margin: 0 0.4em 0.5em 0.4em;box-sizing: border-box;padding-bottom: 0.4em;background-color: white;}#sk-container-id-1 div.sk-label label {font-family: monospace;font-weight: bold;display: inline-block;line-height: 1.2em;}#sk-container-id-1 div.sk-label-container {text-align: center;}#sk-container-id-1 div.sk-container {/* jupyter's `normalize.less` sets `[hidden] { display: none; }` but bootstrap.min.css set `[hidden] { display: none !important; }` so we also need the `!important` here to be able to override the default hidden behavior on the sphinx rendered scikit-learn.org. See: https://github.com/scikit-learn/scikit-learn/issues/21755 */display: inline-block !important;position: relative;}#sk-container-id-1 div.sk-text-repr-fallback {display: none;}</style><div id=\"sk-container-id-1\" class=\"sk-top-container\"><div class=\"sk-text-repr-fallback\"><pre>LinearRegression()</pre><b>In a Jupyter environment, please rerun this cell to show the HTML representation or trust the notebook. <br />On GitHub, the HTML representation is unable to render, please try loading this page with nbviewer.org.</b></div><div class=\"sk-container\" hidden><div class=\"sk-item\"><div class=\"sk-estimator sk-toggleable\"><input class=\"sk-toggleable__control sk-hidden--visually\" id=\"sk-estimator-id-1\" type=\"checkbox\" checked><label for=\"sk-estimator-id-1\" class=\"sk-toggleable__label sk-toggleable__label-arrow\">LinearRegression</label><div class=\"sk-toggleable__content\"><pre>LinearRegression()</pre></div></div></div></div></div>"
      ],
      "text/plain": [
       "LinearRegression()"
      ]
     },
     "execution_count": 37,
     "metadata": {},
     "output_type": "execute_result"
    }
   ],
   "source": [
    "from sklearn.model_selection import train_test_split\n",
    "from sklearn.linear_model import LinearRegression\n",
    "\n",
    "features, targets = pre_b_df.iloc[:, :-1], pre_b_df.iloc[:, -1]\n",
    "\n",
    "X_train, X_test, y_train, y_test = \\\n",
    "train_test_split(features, targets, test_size=0.2, random_state=124)\n",
    "\n",
    "l_r = LinearRegression()\n",
    "l_r.fit(X_train, y_train)"
   ]
  },
  {
   "cell_type": "code",
   "execution_count": 38,
   "id": "88787a1e-5993-49e9-bd54-1a8686409ba4",
   "metadata": {},
   "outputs": [
    {
     "name": "stdout",
     "output_type": "stream",
     "text": [
      "MSE: 870471869.6709, RMSE: 29503.7603, R2: 0.0736\n"
     ]
    }
   ],
   "source": [
    "prediction = l_r.predict(X_test)\n",
    "get_evaluation(y_test, prediction)"
   ]
  },
  {
   "cell_type": "markdown",
   "id": "95288cc5-09cd-41ef-b9d9-ae8666453e17",
   "metadata": {},
   "source": [
    "- 트리 기반 모델로 학습해봅니다."
   ]
  },
  {
   "cell_type": "code",
   "execution_count": 39,
   "id": "f1154766-b797-4e30-a364-913fad99078a",
   "metadata": {},
   "outputs": [
    {
     "name": "stdout",
     "output_type": "stream",
     "text": [
      "DecisionTreeRegressor\n",
      "MSE: 1403103134.4583, RMSE: 37458.0183, R2: -0.4933\n",
      "RandomForestRegressor\n",
      "MSE: 875741645.8707, RMSE: 29592.9324, R2: 0.0680\n",
      "GradientBoostingRegressor\n",
      "MSE: 819963156.6023, RMSE: 28634.9988, R2: 0.1274\n",
      "XGBRegressor\n",
      "MSE: 985177542.1517, RMSE: 31387.5380, R2: -0.0485\n",
      "[LightGBM] [Warning] Found whitespace in feature_names, replace with underlines\n",
      "[LightGBM] [Info] Auto-choosing col-wise multi-threading, the overhead of testing was 0.000055 seconds.\n",
      "You can set `force_col_wise=true` to remove the overhead.\n",
      "[LightGBM] [Info] Total Bins 481\n",
      "[LightGBM] [Info] Number of data points in the train set: 1916, number of used features: 3\n",
      "[LightGBM] [Info] Start training from score 55940.767223\n",
      "LGBMRegressor\n",
      "MSE: 826882509.0387, RMSE: 28755.5648, R2: 0.1200\n"
     ]
    }
   ],
   "source": [
    "from sklearn.tree import DecisionTreeRegressor\n",
    "from sklearn.ensemble import RandomForestRegressor\n",
    "from sklearn.ensemble import GradientBoostingRegressor\n",
    "from xgboost import XGBRegressor\n",
    "from lightgbm import LGBMRegressor\n",
    "\n",
    "dt_r = DecisionTreeRegressor(random_state=124)\n",
    "rf_r = RandomForestRegressor(random_state=124, n_estimators=1000)\n",
    "gb_r = GradientBoostingRegressor(random_state=124)\n",
    "xgb_r = XGBRegressor()\n",
    "lgb_r = LGBMRegressor(n_estimators=100)\n",
    "\n",
    "models = [dt_r, rf_r, gb_r, xgb_r, lgb_r]\n",
    "for model in models:\n",
    "    model.fit(X_train, y_train)\n",
    "    prediction = model.predict(X_test)\n",
    "    print(model.__class__.__name__)\n",
    "    get_evaluation(y_test, prediction)"
   ]
  },
  {
   "cell_type": "code",
   "execution_count": null,
   "id": "0dbbd2b7-21a8-4062-b9ec-1afdd344aa2c",
   "metadata": {},
   "outputs": [],
   "source": []
  },
  {
   "cell_type": "code",
   "execution_count": null,
   "id": "ebef05d1-c0b4-4b77-ba4e-5806b2c62933",
   "metadata": {},
   "outputs": [],
   "source": []
  },
  {
   "cell_type": "code",
   "execution_count": null,
   "id": "baea08ab-1045-4238-bd27-b19a2be0f467",
   "metadata": {},
   "outputs": [],
   "source": []
  }
 ],
 "metadata": {
  "kernelspec": {
   "display_name": "Python 3 (ipykernel)",
   "language": "python",
   "name": "python3"
  },
  "language_info": {
   "codemirror_mode": {
    "name": "ipython",
    "version": 3
   },
   "file_extension": ".py",
   "mimetype": "text/x-python",
   "name": "python",
   "nbconvert_exporter": "python",
   "pygments_lexer": "ipython3",
   "version": "3.11.8"
  }
 },
 "nbformat": 4,
 "nbformat_minor": 5
}
